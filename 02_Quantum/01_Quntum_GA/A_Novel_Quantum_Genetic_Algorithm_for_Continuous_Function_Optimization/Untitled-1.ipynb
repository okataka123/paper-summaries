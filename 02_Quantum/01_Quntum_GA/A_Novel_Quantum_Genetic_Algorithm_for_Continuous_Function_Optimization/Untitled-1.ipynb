{
 "cells": [
  {
   "cell_type": "code",
   "execution_count": 7,
   "id": "42e6b412",
   "metadata": {},
   "outputs": [],
   "source": [
    "x = [1, 2, 8, 4, 5]"
   ]
  },
  {
   "cell_type": "code",
   "execution_count": 8,
   "id": "120567a4",
   "metadata": {},
   "outputs": [
    {
     "name": "stdout",
     "output_type": "stream",
     "text": [
      "f1 = -346\n"
     ]
    }
   ],
   "source": [
    "f1 =  10 - sum(sum(x[j] for j in range(i))**2 for i in range(5))\n",
    "print('f1 =', f1)"
   ]
  },
  {
   "cell_type": "code",
   "execution_count": 9,
   "id": "f2231537",
   "metadata": {},
   "outputs": [
    {
     "name": "stdout",
     "output_type": "stream",
     "text": [
      "f2 = -346\n"
     ]
    }
   ],
   "source": [
    "tmp2, ret = 0, 0\n",
    "for i in range(5):\n",
    "    tmp = 0\n",
    "    for j in range(i):\n",
    "        tmp += x[j]\n",
    "\n",
    "    tmp *= tmp\n",
    "\n",
    "    tmp2 += tmp\n",
    "\n",
    "ret = 10 - tmp2\n",
    "\n",
    "\n",
    "print('f2 =', ret)"
   ]
  },
  {
   "cell_type": "code",
   "execution_count": null,
   "id": "d8359853",
   "metadata": {},
   "outputs": [
    {
     "name": "stdout",
     "output_type": "stream",
     "text": [
      "[[ -32  -16]\n",
      " [ -64  -32]\n",
      " [ -96  -48]\n",
      " [-128  -64]\n",
      " [-160  -80]\n",
      " [-192  -96]\n",
      " [-224 -112]\n",
      " [-256 -128]\n",
      " [-288 -144]\n",
      " [-320 -160]\n",
      " [-352 -176]\n",
      " [-384 -192]\n",
      " [-416 -208]\n",
      " [-448 -224]\n",
      " [-480 -240]\n",
      " [-512 -256]\n",
      " [-544 -272]\n",
      " [-576 -288]\n",
      " [-608 -304]\n",
      " [-640 -320]\n",
      " [-672 -336]\n",
      " [-704 -352]\n",
      " [-736 -368]\n",
      " [-768 -384]\n",
      " [-800 -400]]\n"
     ]
    }
   ],
   "source": [
    "import numpy as np\n",
    "\n",
    "aij = np.array([[(j + 1) * (-32 + i * 16) / 100 for i in range(2)] for j in range(25)])\n",
    "\n",
    "print(aij)"
   ]
  },
  {
   "cell_type": "code",
   "execution_count": null,
   "id": "6552dd54",
   "metadata": {},
   "outputs": [],
   "source": []
  }
 ],
 "metadata": {
  "kernelspec": {
   "display_name": "base",
   "language": "python",
   "name": "python3"
  },
  "language_info": {
   "codemirror_mode": {
    "name": "ipython",
    "version": 3
   },
   "file_extension": ".py",
   "mimetype": "text/x-python",
   "name": "python",
   "nbconvert_exporter": "python",
   "pygments_lexer": "ipython3",
   "version": "3.12.7"
  }
 },
 "nbformat": 4,
 "nbformat_minor": 5
}
